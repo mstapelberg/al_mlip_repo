{
 "cells": [
  {
   "cell_type": "markdown",
   "metadata": {},
   "source": [
    "# Adversarial Active Learning with MACE and Allegro"
   ]
  },
  {
   "cell_type": "markdown",
   "metadata": {},
   "source": [
    "This module uses the adversarial attack method to identify structures that are most difficult for our models to predict. This currently only works for ensembles of MACE and Allegro models."
   ]
  },
  {
   "cell_type": "code",
   "execution_count": 1,
   "metadata": {},
   "outputs": [],
   "source": [
    "# import the necessary libraries\n",
    "import sys \n",
    "sys.path.append('../Modules')\n",
    "from al_functions import *\n",
    "\n"
   ]
  },
  {
   "cell_type": "code",
   "execution_count": 1,
   "metadata": {},
   "outputs": [],
   "source": [
    "from ase.io import read\n",
    "# define the model paths\n",
    "# here you would pass the paths to the models you have trained using the train_mlip.ipynb notebook\n",
    "data = read('../data/zr-w-v-ti-cr/gen_0_2024-11-06/md_frames/gen_0_idx-2_comp-V124_temp-1000_md.xyz',index='10:')"
   ]
  },
  {
   "cell_type": "code",
   "execution_count": null,
   "metadata": {},
   "outputs": [],
   "source": [
    "# For a single MACE calculator\n",
    "calculator = AdversarialCalculator('model.model', calculator_type='mace')\n",
    "\n",
    "# For an ensemble of Allegro calculators\n",
    "calculator = AdversarialCalculator(\n",
    "    ['model1.pth', 'model2.pth', 'model3.pth'],\n",
    "    calculator_type='allegro',\n",
    "    species={'W': 'W'}\n",
    ")\n",
    "\n",
    "# Calculate forces and variances\n",
    "forces = calculator.calculate_forces(atoms)\n",
    "variances = calculator.calculate_normalized_force_variance(forces)\n",
    "disagreement = calculator.calculate_structure_disagreement(forces, variances)"
   ]
  }
 ],
 "metadata": {
  "kernelspec": {
   "display_name": "mace",
   "language": "python",
   "name": "python3"
  },
  "language_info": {
   "codemirror_mode": {
    "name": "ipython",
    "version": 3
   },
   "file_extension": ".py",
   "mimetype": "text/x-python",
   "name": "python",
   "nbconvert_exporter": "python",
   "pygments_lexer": "ipython3",
   "version": "3.10.15"
  }
 },
 "nbformat": 4,
 "nbformat_minor": 2
}
