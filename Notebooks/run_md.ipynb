{
 "cells": [
  {
   "cell_type": "markdown",
   "metadata": {},
   "source": [
    "# Primary goal is to run molecular dynamics using the trained MACE model "
   ]
  },
  {
   "cell_type": "markdown",
   "metadata": {},
   "source": [
    "We will again use inspiration from the MACE tutorial notebook to run molecular dynamics, but this will serve as an example of how we can use the trained model to select new configurations for future DFT calculations. "
   ]
  },
  {
   "cell_type": "code",
   "execution_count": 1,
   "metadata": {},
   "outputs": [],
   "source": [
    "from ase.io import read, write\n",
    "from ase import units\n",
    "from ase.md.langevin import Langevin\n",
    "from ase.md.velocitydistribution import Stationary, ZeroRotation, MaxwellBoltzmannDistribution\n",
    "\n",
    "import random\n",
    "import os\n",
    "import time\n",
    "import numpy as np\n",
    "import pylab as pl\n",
    "from IPython import display\n",
    "\n",
    "def simpleMD(init_conf, temp, calc, fname, s, T):\n",
    "    init_conf.set_calculator(calc)\n",
    "\n",
    "    #initialize the temperature\n",
    "    random.seed(701) #just making sure the MD failure is reproducible\n",
    "    MaxwellBoltzmannDistribution(init_conf, temperature_K=300) #initialize temperature at 300\n",
    "    Stationary(init_conf)\n",
    "    ZeroRotation(init_conf)\n",
    "\n",
    "    dyn = Langevin(init_conf, 1.0*units.fs, temperature_K=temp, friction=0.1) #drive system to desired temperature\n",
    "\n",
    "    %matplotlib inline\n",
    "\n",
    "    time_fs = []\n",
    "    temperature = []\n",
    "    energies = []\n",
    "\n",
    "    #remove previously stored trajectory with the same name\n",
    "    os.system('rm -rfv '+fname)\n",
    "\n",
    "    fig, ax = pl.subplots(2, 1, figsize=(6,6), sharex='all', gridspec_kw={'hspace': 0, 'wspace': 0})\n",
    "\n",
    "    def write_frame():\n",
    "            dyn.atoms.write(fname, append=True)\n",
    "            time_fs.append(dyn.get_time()/units.fs)\n",
    "            temperature.append(dyn.atoms.get_temperature())\n",
    "            energies.append(dyn.atoms.get_potential_energy()/len(dyn.atoms))\n",
    "\n",
    "            ax[0].plot(np.array(time_fs), np.array(energies), color=\"b\")\n",
    "            ax[0].set_ylabel('E (eV/atom)')\n",
    "\n",
    "            # plot the temperature of the system as subplots\n",
    "            ax[1].plot(np.array(time_fs), temperature, color=\"r\")\n",
    "            ax[1].set_ylabel('T (K)')\n",
    "            ax[1].set_xlabel('Time (fs)')\n",
    "\n",
    "            display.clear_output(wait=True)\n",
    "            display.display(pl.gcf())\n",
    "            time.sleep(0.01)\n",
    "\n",
    "    dyn.attach(write_frame, interval=s)\n",
    "    t0 = time.time()\n",
    "    dyn.run(T)\n",
    "    t1 = time.time()\n",
    "    print(\"MD finished in {0:.2f} minutes!\".format((t1-t0)/60))"
   ]
  },
  {
   "cell_type": "code",
   "execution_count": null,
   "metadata": {},
   "outputs": [],
   "source": []
  }
 ],
 "metadata": {
  "kernelspec": {
   "display_name": "mace",
   "language": "python",
   "name": "python3"
  },
  "language_info": {
   "codemirror_mode": {
    "name": "ipython",
    "version": 3
   },
   "file_extension": ".py",
   "mimetype": "text/x-python",
   "name": "python",
   "nbconvert_exporter": "python",
   "pygments_lexer": "ipython3",
   "version": "3.10.15"
  }
 },
 "nbformat": 4,
 "nbformat_minor": 2
}
